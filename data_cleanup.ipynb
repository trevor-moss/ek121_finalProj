{
 "cells": [
  {
   "cell_type": "markdown",
   "metadata": {},
   "source": [
    "**Importing required modules**\n",
    "* `requests` used for importing the downloaded zip file\n",
    "* `zipfile` for opening the zip file\n",
    "* `pandas` as datatype"
   ]
  },
  {
   "cell_type": "code",
   "execution_count": 6,
   "metadata": {},
   "outputs": [],
   "source": [
    "import requests\n",
    "import zipfile\n",
    "import pandas as pd"
   ]
  },
  {
   "cell_type": "markdown",
   "metadata": {},
   "source": [
    "**Importing file and addressing**"
   ]
  },
  {
   "cell_type": "code",
   "execution_count": 7,
   "metadata": {},
   "outputs": [
    {
     "name": "stdout",
     "output_type": "stream",
     "text": [
      "   gisco_id lau_name country         street_name  named_after_n label  \\\n",
      "0  AT_90001     Wien      AT         \"Am Wasser\"            1.0   NaN   \n",
      "1  AT_90001     Wien      AT                   1            1.0   NaN   \n",
      "2  AT_90001     Wien      AT  1. Haidequerstraße            1.0   NaN   \n",
      "3  AT_90001     Wien      AT       1. Molostraße            1.0   NaN   \n",
      "4  AT_90001     Wien      AT           1. Straße            1.0   NaN   \n",
      "\n",
      "  named_after_id instance_of_label  person description  ...  \\\n",
      "0            NaN               NaN     0.0         NaN  ...   \n",
      "1            NaN               NaN     0.0         NaN  ...   \n",
      "2            NaN               NaN     0.0         NaN  ...   \n",
      "3            NaN               NaN     0.0         NaN  ...   \n",
      "4            NaN               NaN     0.0         NaN  ...   \n",
      "\n",
      "  place_of_birth_label place_of_death_label country_of_citizenship_label  \\\n",
      "0                  NaN                  NaN                          NaN   \n",
      "1                  NaN                  NaN                          NaN   \n",
      "2                  NaN                  NaN                          NaN   \n",
      "3                  NaN                  NaN                          NaN   \n",
      "4                  NaN                  NaN                          NaN   \n",
      "\n",
      "  place_of_birth_latitude place_of_birth_longitude place_of_death_latitude  \\\n",
      "0                     NaN                      NaN                     NaN   \n",
      "1                     NaN                      NaN                     NaN   \n",
      "2                     NaN                      NaN                     NaN   \n",
      "3                     NaN                      NaN                     NaN   \n",
      "4                     NaN                      NaN                     NaN   \n",
      "\n",
      "  place_of_death_longitude wikipedia  picture_embed  image_credit  \n",
      "0                      NaN       NaN            NaN           NaN  \n",
      "1                      NaN       NaN            NaN           NaN  \n",
      "2                      NaN       NaN            NaN           NaN  \n",
      "3                      NaN       NaN            NaN           NaN  \n",
      "4                      NaN       NaN            NaN           NaN  \n",
      "\n",
      "[5 rows x 25 columns]\n"
     ]
    }
   ],
   "source": [
    "streetdataZIP_url = 'https://drive.google.com/uc?export=download&id=16c8A7GCe9VnTLYCZI9v15K64VCBoNnYf'\n",
    "response = requests.get(streetdataZIP_url)\n",
    "open(\"streetdata.zip\", \"wb\").write(response.content)\n",
    "zf = zipfile.ZipFile('streetdata.zip')\n",
    "zf.extractall()\n",
    "streetname_df = pd.read_csv('all_data_mapping_diversity/allstreets_allcities_aug-23.csv')\n",
    "print(streetname_df.head())"
   ]
  },
  {
   "cell_type": "code",
   "execution_count": null,
   "metadata": {},
   "outputs": [],
   "source": []
  }
 ],
 "metadata": {
  "kernelspec": {
   "display_name": "base",
   "language": "python",
   "name": "python3"
  },
  "language_info": {
   "codemirror_mode": {
    "name": "ipython",
    "version": 3
   },
   "file_extension": ".py",
   "mimetype": "text/x-python",
   "name": "python",
   "nbconvert_exporter": "python",
   "pygments_lexer": "ipython3",
   "version": "3.8.3"
  }
 },
 "nbformat": 4,
 "nbformat_minor": 2
}
