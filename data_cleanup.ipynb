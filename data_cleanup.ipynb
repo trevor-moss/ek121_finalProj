{
 "cells": [
  {
   "cell_type": "markdown",
   "metadata": {},
   "source": [
    "**Importing required modules**\n",
    "* `requests` used for importing the downloaded zip file\n",
    "* `zipfile` for opening the zip file\n",
    "* `pandas` as datatype"
   ]
  },
  {
   "cell_type": "code",
   "execution_count": 6,
   "metadata": {},
   "outputs": [],
   "source": [
    "import requests\n",
    "import zipfile\n",
    "import pandas as pd"
   ]
  },
  {
   "cell_type": "markdown",
   "metadata": {},
   "source": [
    "**Importing file and creating pandas dataframe**"
   ]
  },
  {
   "cell_type": "code",
   "execution_count": 10,
   "metadata": {},
   "outputs": [],
   "source": [
    "#Download data to streetdata.zip in working directory\n",
    "streetdataZIP_url = 'https://drive.google.com/uc?export=download&id=16c8A7GCe9VnTLYCZI9v15K64VCBoNnYf'\n",
    "response = requests.get(streetdataZIP_url)\n",
    "open(\"streetdata.zip\", \"wb\").write(response.content)\n",
    "\n",
    "#Extract files from streetdata.zip\n",
    "zf = zipfile.ZipFile('streetdata.zip')\n",
    "zf.extractall()"
   ]
  },
  {
   "cell_type": "code",
   "execution_count": 14,
   "metadata": {},
   "outputs": [
    {
     "name": "stdout",
     "output_type": "stream",
     "text": [
      "Index(['gisco_id', 'lau_name', 'country', 'street_name', 'named_after_n',\n",
      "       'label', 'named_after_id', 'instance_of_label', 'person', 'description',\n",
      "       'gender', 'occupation_label', 'occupation_category', 'date_of_birth',\n",
      "       'date_of_death', 'place_of_birth_label', 'place_of_death_label',\n",
      "       'country_of_citizenship_label', 'place_of_birth_latitude',\n",
      "       'place_of_birth_longitude', 'place_of_death_latitude',\n",
      "       'place_of_death_longitude', 'wikipedia', 'picture_embed',\n",
      "       'image_credit'],\n",
      "      dtype='object')\n",
      "Index(['gisco_id', 'lau_name', 'country', 'street_name', 'named_after_n',\n",
      "       'label', 'named_after_id', 'instance_of_label', 'person', 'gender',\n",
      "       'occupation_label', 'occupation_category', 'date_of_birth',\n",
      "       'date_of_death', 'place_of_birth_label', 'place_of_death_label',\n",
      "       'country_of_citizenship_label', 'place_of_birth_latitude',\n",
      "       'place_of_birth_longitude', 'place_of_death_latitude',\n",
      "       'place_of_death_longitude'],\n",
      "      dtype='object')\n"
     ]
    }
   ],
   "source": [
    "streetname_df = pd.read_csv('all_data_mapping_diversity/allstreets_allcities_aug-23.csv')\n",
    "print(streetname_df.columns)\n",
    "streetname_df_CUT = streetname_df.drop(['description', \n",
    "                                        'wikipedia', \n",
    "                                        'picture_embed', \n",
    "                                        'image_credit'], axis='columns')\n",
    "print(streetname_df_CUT.columns)"
   ]
  },
  {
   "cell_type": "code",
   "execution_count": 18,
   "metadata": {},
   "outputs": [
    {
     "data": {
      "text/plain": [
       "array([nan,\n",
       "       'culture, science, arts; culture, science, arts; culture, science, arts; politics and government',\n",
       "       'culture, science, arts; culture, science, arts; culture, science, arts',\n",
       "       ...,\n",
       "       'culture, science, arts; culture, science, arts; culture, science, arts; politics and government; culture, science, arts; culture, science, arts; politics and government; culture, science, arts',\n",
       "       'culture, science, arts; culture, science, arts; culture, science, arts; culture, science, arts; culture, science, arts; politics and government; politics and government',\n",
       "       'culture, science, arts; culture, science, arts; culture, science, arts; culture, science, arts; military; culture, science, arts'],\n",
       "      dtype=object)"
      ]
     },
     "execution_count": 18,
     "metadata": {},
     "output_type": "execute_result"
    }
   ],
   "source": [
    "streetname_df_CUT.occupation_category.unique()"
   ]
  },
  {
   "cell_type": "code",
   "execution_count": 22,
   "metadata": {},
   "outputs": [
    {
     "name": "stdout",
     "output_type": "stream",
     "text": [
      "6.226488438581532\n",
      "2.178738024778051\n"
     ]
    }
   ],
   "source": [
    "testing_countof_rel = 0\n",
    "testing_countof_polgov = 0\n",
    "for category in streetname_df_CUT['occupation_category']:\n",
    "    if 'politics and government' in str(category):\n",
    "        testing_countof_polgov += 1\n",
    "    if 'religion' in str(category):\n",
    "        testing_countof_rel += 1\n",
    "\n",
    "print(testing_countof_polgov/len(streetname_df_CUT)*100)\n",
    "print(testing_countof_rel/len(streetname_df_CUT)*100)\n",
    "\n"
   ]
  }
 ],
 "metadata": {
  "kernelspec": {
   "display_name": "base",
   "language": "python",
   "name": "python3"
  },
  "language_info": {
   "codemirror_mode": {
    "name": "ipython",
    "version": 3
   },
   "file_extension": ".py",
   "mimetype": "text/x-python",
   "name": "python",
   "nbconvert_exporter": "python",
   "pygments_lexer": "ipython3",
   "version": "3.8.3"
  }
 },
 "nbformat": 4,
 "nbformat_minor": 2
}
