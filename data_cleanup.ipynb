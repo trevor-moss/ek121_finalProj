{
 "cells": [
  {
   "cell_type": "markdown",
   "metadata": {},
   "source": [
    "**Importing required modules**\n",
    "* `requests` used for importing the downloaded zip file\n",
    "* `zipfile` for opening the zip file\n",
    "* `pandas` as datatype"
   ]
  },
  {
   "cell_type": "code",
   "execution_count": 43,
   "metadata": {},
   "outputs": [],
   "source": [
    "import requests\n",
    "import zipfile\n",
    "import pandas as pd\n",
    "import math"
   ]
  },
  {
   "cell_type": "markdown",
   "metadata": {},
   "source": [
    "**Importing file and creating pandas dataframe**"
   ]
  },
  {
   "cell_type": "code",
   "execution_count": 10,
   "metadata": {},
   "outputs": [],
   "source": [
    "#Download data to streetdata.zip in working directory\n",
    "streetdataZIP_url = 'https://drive.google.com/uc?export=download&id=16c8A7GCe9VnTLYCZI9v15K64VCBoNnYf'\n",
    "response = requests.get(streetdataZIP_url)\n",
    "open(\"streetdata.zip\", \"wb\").write(response.content)\n",
    "\n",
    "#Extract files from streetdata.zip\n",
    "zf = zipfile.ZipFile('streetdata.zip')\n",
    "zf.extractall()"
   ]
  },
  {
   "cell_type": "code",
   "execution_count": 14,
   "metadata": {},
   "outputs": [
    {
     "name": "stdout",
     "output_type": "stream",
     "text": [
      "Index(['gisco_id', 'lau_name', 'country', 'street_name', 'named_after_n',\n",
      "       'label', 'named_after_id', 'instance_of_label', 'person', 'description',\n",
      "       'gender', 'occupation_label', 'occupation_category', 'date_of_birth',\n",
      "       'date_of_death', 'place_of_birth_label', 'place_of_death_label',\n",
      "       'country_of_citizenship_label', 'place_of_birth_latitude',\n",
      "       'place_of_birth_longitude', 'place_of_death_latitude',\n",
      "       'place_of_death_longitude', 'wikipedia', 'picture_embed',\n",
      "       'image_credit'],\n",
      "      dtype='object')\n",
      "Index(['gisco_id', 'lau_name', 'country', 'street_name', 'named_after_n',\n",
      "       'label', 'named_after_id', 'instance_of_label', 'person', 'gender',\n",
      "       'occupation_label', 'occupation_category', 'date_of_birth',\n",
      "       'date_of_death', 'place_of_birth_label', 'place_of_death_label',\n",
      "       'country_of_citizenship_label', 'place_of_birth_latitude',\n",
      "       'place_of_birth_longitude', 'place_of_death_latitude',\n",
      "       'place_of_death_longitude'],\n",
      "      dtype='object')\n"
     ]
    }
   ],
   "source": [
    "streetname_df = pd.read_csv('all_data_mapping_diversity/allstreets_allcities_aug-23.csv')\n",
    "print(streetname_df.columns)\n",
    "streetname_df_CUT = streetname_df.drop(['description', \n",
    "                                        'wikipedia', \n",
    "                                        'picture_embed', \n",
    "                                        'image_credit'], axis='columns')\n",
    "print(streetname_df_CUT.columns)"
   ]
  },
  {
   "cell_type": "code",
   "execution_count": 26,
   "metadata": {},
   "outputs": [
    {
     "name": "stdout",
     "output_type": "stream",
     "text": [
      "   gisco_id lau_name country         street_name  named_after_n label  \\\n",
      "0  AT_90001     Wien      AT         \"Am Wasser\"            1.0   NaN   \n",
      "1  AT_90001     Wien      AT                   1            1.0   NaN   \n",
      "2  AT_90001     Wien      AT  1. Haidequerstraße            1.0   NaN   \n",
      "3  AT_90001     Wien      AT       1. Molostraße            1.0   NaN   \n",
      "4  AT_90001     Wien      AT           1. Straße            1.0   NaN   \n",
      "\n",
      "  named_after_id instance_of_label  person gender  ... occupation_category  \\\n",
      "0            NaN               NaN     0.0    NaN  ...                 NaN   \n",
      "1            NaN               NaN     0.0    NaN  ...                 NaN   \n",
      "2            NaN               NaN     0.0    NaN  ...                 NaN   \n",
      "3            NaN               NaN     0.0    NaN  ...                 NaN   \n",
      "4            NaN               NaN     0.0    NaN  ...                 NaN   \n",
      "\n",
      "  date_of_birth date_of_death place_of_birth_label place_of_death_label  \\\n",
      "0           NaN           NaN                  NaN                  NaN   \n",
      "1           NaN           NaN                  NaN                  NaN   \n",
      "2           NaN           NaN                  NaN                  NaN   \n",
      "3           NaN           NaN                  NaN                  NaN   \n",
      "4           NaN           NaN                  NaN                  NaN   \n",
      "\n",
      "  country_of_citizenship_label place_of_birth_latitude  \\\n",
      "0                          NaN                     NaN   \n",
      "1                          NaN                     NaN   \n",
      "2                          NaN                     NaN   \n",
      "3                          NaN                     NaN   \n",
      "4                          NaN                     NaN   \n",
      "\n",
      "   place_of_birth_longitude  place_of_death_latitude  place_of_death_longitude  \n",
      "0                       NaN                      NaN                       NaN  \n",
      "1                       NaN                      NaN                       NaN  \n",
      "2                       NaN                      NaN                       NaN  \n",
      "3                       NaN                      NaN                       NaN  \n",
      "4                       NaN                      NaN                       NaN  \n",
      "\n",
      "[5 rows x 21 columns]\n"
     ]
    }
   ],
   "source": [
    "print(streetname_df_CUT.head())"
   ]
  },
  {
   "cell_type": "code",
   "execution_count": 18,
   "metadata": {},
   "outputs": [
    {
     "data": {
      "text/plain": [
       "array([nan,\n",
       "       'culture, science, arts; culture, science, arts; culture, science, arts; politics and government',\n",
       "       'culture, science, arts; culture, science, arts; culture, science, arts',\n",
       "       ...,\n",
       "       'culture, science, arts; culture, science, arts; culture, science, arts; politics and government; culture, science, arts; culture, science, arts; politics and government; culture, science, arts',\n",
       "       'culture, science, arts; culture, science, arts; culture, science, arts; culture, science, arts; culture, science, arts; politics and government; politics and government',\n",
       "       'culture, science, arts; culture, science, arts; culture, science, arts; culture, science, arts; military; culture, science, arts'],\n",
       "      dtype=object)"
      ]
     },
     "execution_count": 18,
     "metadata": {},
     "output_type": "execute_result"
    }
   ],
   "source": [
    "streetname_df_CUT.occupation_category.unique()"
   ]
  },
  {
   "cell_type": "code",
   "execution_count": 47,
   "metadata": {},
   "outputs": [
    {
     "name": "stdout",
     "output_type": "stream",
     "text": [
      "6.226488438581532\n",
      "2.178738024778051\n",
      "128246 159496\n"
     ]
    }
   ],
   "source": [
    "testing_countof_rel = 0\n",
    "testing_countof_polgov = 0\n",
    "testing_countof_NaN = 0\n",
    "\n",
    "for category_val in streetname_df_CUT['occupation_category']:\n",
    "    if 'politics and government' in str(category_val):\n",
    "        testing_countof_polgov += 1\n",
    "    if 'religion' in str(category_val):\n",
    "        testing_countof_rel += 1\n",
    "    if type(category_val) == float:\n",
    "        if math.isnan(category_val) == True:\n",
    "            testing_countof_NaN += 1\n",
    "\n",
    "print(testing_countof_polgov/len(streetname_df_CUT)*100)\n",
    "print(testing_countof_rel/len(streetname_df_CUT)*100)\n",
    "print(testing_countof_NaN, len(streetname_df_CUT))\n"
   ]
  },
  {
   "cell_type": "code",
   "execution_count": null,
   "metadata": {},
   "outputs": [],
   "source": []
  }
 ],
 "metadata": {
  "kernelspec": {
   "display_name": "Python 3 (ipykernel)",
   "language": "python",
   "name": "python3"
  },
  "language_info": {
   "codemirror_mode": {
    "name": "ipython",
    "version": 3
   },
   "file_extension": ".py",
   "mimetype": "text/x-python",
   "name": "python",
   "nbconvert_exporter": "python",
   "pygments_lexer": "ipython3",
   "version": "3.11.5"
  }
 },
 "nbformat": 4,
 "nbformat_minor": 4
}
