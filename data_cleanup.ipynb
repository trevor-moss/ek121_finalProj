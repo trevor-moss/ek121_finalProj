{
 "cells": [
  {
   "cell_type": "markdown",
   "metadata": {},
   "source": [
    "## Index ##\n",
    "[Importing modules](#Importing-required-modules)\n",
    "<br>\n",
    "[Importing data](#Importing-file-and-unzipping)\n",
    "<br>\n",
    "[Cleaning](#Cleaning)"
   ]
  },
  {
   "cell_type": "markdown",
   "metadata": {},
   "source": [
    "### Importing required modules ###\n",
    "\n",
    "* `requests` used for importing the downloaded zip file\n",
    "* `tqdm` for progress bars, file size, elapsed time and download speeds\n",
    "* `zipfile` for opening the zip file\n",
    "* `concurrent.futures` for multiprocessing\n",
    "* `pandas` as datatype"
   ]
  },
  {
   "cell_type": "code",
   "execution_count": 3,
   "metadata": {},
   "outputs": [],
   "source": [
    "import requests\n",
    "from tqdm.auto import tqdm\n",
    "import zipfile\n",
    "import concurrent.futures\n",
    "import pandas as pd"
   ]
  },
  {
   "cell_type": "markdown",
   "metadata": {},
   "source": [
    "### Importing file and unzipping ###"
   ]
  },
  {
   "cell_type": "code",
   "execution_count": 3,
   "metadata": {},
   "outputs": [
    {
     "name": "stderr",
     "output_type": "stream",
     "text": [
      "2.31GB [1:15:14, 511kB/s] \n"
     ]
    }
   ],
   "source": [
    "#Download data to hospitalPriceData.zip in working directory\n",
    "hospitalPriceData_zip_url = 'https://www.dolthub.com/csv/dolthub/hospital-price-transparency-v3/iptu80riko4il5qij5asr8nalodeo9ut?include_bom=0'\n",
    "\n",
    "#session to efficiently use data streaming\n",
    "session = requests.Session()\n",
    "response = session.get(hospitalPriceData_zip_url, stream= True)\n",
    "total_size_in_bytes = int(response.headers.get('content-length', 0))\n",
    "block_size = 1024**2 #1 MiB blockst\n",
    "progress_bar = tqdm(total= total_size_in_bytes, unit= 'B', unit_scale= True)\n",
    "with open(\"hospitalPriceData.zip\", \"wb\") as file:\n",
    "    for data in response.iter_content(block_size):\n",
    "        progress_bar.update(len(data))\n",
    "        file.write(data)\n",
    "progress_bar.close()\n",
    "\n",
    "#2.31 GB, TOOK 1hr 15min WITH 675mb ETHERNET (though dolthub was the bottleneck)"
   ]
  },
  {
   "cell_type": "code",
   "execution_count": 10,
   "metadata": {},
   "outputs": [
    {
     "name": "stdout",
     "output_type": "stream",
     "text": [
      "CPU times: user 1min 19s, sys: 35.9 s, total: 1min 55s\n",
      "Wall time: 3min 7s\n"
     ]
    }
   ],
   "source": [
    "#%%time\n",
    "\n",
    "#Extract files from hospitalPriceData.zip\n",
    "zf = zipfile.ZipFile('hospitalPriceData.zip')\n",
    "with concurrent.futures.ProcessPoolExecutor() as executor:\n",
    "    executor.map(zf.extractall(), zf.infolist())\n",
    "\n",
    "#3min 18s wall time normal\n",
    "#3min 7s wall time multithreaded"
   ]
  },
  {
   "cell_type": "markdown",
   "metadata": {},
   "source": [
    "### Cleaning ###"
   ]
  },
  {
   "cell_type": "code",
   "execution_count": null,
   "metadata": {},
   "outputs": [],
   "source": []
  }
 ],
 "metadata": {
  "kernelspec": {
   "display_name": "Python 3 (ipykernel)",
   "language": "python",
   "name": "python3"
  },
  "language_info": {
   "codemirror_mode": {
    "name": "ipython",
    "version": 3
   },
   "file_extension": ".py",
   "mimetype": "text/x-python",
   "name": "python",
   "nbconvert_exporter": "python",
   "pygments_lexer": "ipython3",
   "version": "3.8.3"
  }
 },
 "nbformat": 4,
 "nbformat_minor": 4
}
