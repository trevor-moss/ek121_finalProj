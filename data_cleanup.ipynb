{
 "cells": [
  {
   "cell_type": "markdown",
   "metadata": {},
   "source": [
    "## Index\n",
    "[Importing modules](#Importing-required-modules)\\\n",
    "[Importing data](#Importing-file-and-unzipping)\\\n",
    "[Cleaning](#Cleaning)"
   ]
  },
  {
   "cell_type": "markdown",
   "metadata": {},
   "source": [
    "### Importing required modules\n",
    "\n",
    "* `requests` used for importing the downloaded zip file\n",
    "* `tqdm` for progress bars, file size, elapsed time and download speeds\n",
    "* `zipfile` for opening the zip file\n",
    "* `concurrent.futures` for multiprocessing\n",
    "* `pandas` as datatype"
   ]
  },
  {
   "cell_type": "code",
   "execution_count": 2,
   "metadata": {},
   "outputs": [],
   "source": [
    "import requests\n",
    "from tqdm.auto import tqdm\n",
    "import zipfile\n",
    "import concurrent.futures\n",
    "import pandas as pd\n",
    "from io import StringIO"
   ]
  },
  {
   "cell_type": "markdown",
   "metadata": {},
   "source": [
    "### Importing file and unzipping"
   ]
  },
  {
   "cell_type": "code",
   "execution_count": 3,
   "metadata": {},
   "outputs": [
    {
     "name": "stderr",
     "output_type": "stream",
     "text": [
      "2.31GB [1:15:14, 511kB/s] \n"
     ]
    }
   ],
   "source": [
    "#Download data to hospitalPriceData.zip in working directory\n",
    "hospitalPriceData_zip_url = 'https://www.dolthub.com/csv/dolthub/hospital-price-transparency-v3/iptu80riko4il5qij5asr8nalodeo9ut?include_bom=0'\n",
    "\n",
    "#session to efficiently use data streaming\n",
    "session = requests.Session()\n",
    "response = session.get(hospitalPriceData_zip_url, stream= True)\n",
    "total_size_in_bytes = int(response.headers.get('content-length', 0))\n",
    "block_size = 1024**2 #1 MiB blockst\n",
    "progress_bar = tqdm(total= total_size_in_bytes, unit= 'B', unit_scale= True)\n",
    "with open(\"hospitalPriceData.zip\", \"wb\") as file:\n",
    "    for data in response.iter_content(block_size):\n",
    "        progress_bar.update(len(data))\n",
    "        file.write(data)\n",
    "progress_bar.close()\n",
    "\n",
    "#2.31 GB, TOOK 1hr 15min WITH 675mb ETHERNET (though dolthub was the bottleneck)"
   ]
  },
  {
   "cell_type": "code",
   "execution_count": 10,
   "metadata": {},
   "outputs": [
    {
     "name": "stdout",
     "output_type": "stream",
     "text": [
      "CPU times: user 1min 19s, sys: 35.9 s, total: 1min 55s\n",
      "Wall time: 3min 7s\n"
     ]
    }
   ],
   "source": [
    "#%%time\n",
    "\n",
    "#Extract files from hospitalPriceData.zip\n",
    "zf = zipfile.ZipFile('hospitalPriceData.zip')\n",
    "with concurrent.futures.ProcessPoolExecutor() as executor:\n",
    "    executor.map(zf.extractall(), zf.infolist())\n",
    "\n",
    "#3min 18s wall time normal\n",
    "#3min 7s wall time multithreaded"
   ]
  },
  {
   "cell_type": "markdown",
   "metadata": {},
   "source": [
    "### Cleaning"
   ]
  },
  {
   "cell_type": "code",
   "execution_count": 6,
   "metadata": {},
   "outputs": [
    {
     "name": "stdout",
     "output_type": "stream",
     "text": [
      "  cms_certification_num                                   name  \\\n",
      "0                010001        SOUTHEAST HEALTH MEDICAL CENTER   \n",
      "1                010005  MARSHALL MEDICAL CENTERS SOUTH CAMPUS   \n",
      "2                010006           NORTH ALABAMA MEDICAL CENTER   \n",
      "3                010007               MIZELL MEMORIAL HOSPITAL   \n",
      "4                010008            CRENSHAW COMMUNITY HOSPITAL   \n",
      "\n",
      "                      address      city state   zip5  beds  phone_number  \\\n",
      "0      1108 ROSS CLARK CIRCLE    DOTHAN    AL  36301   420    3347938701   \n",
      "1  2505 U S HIGHWAY 431 NORTH      BOAZ    AL  35957   240    2565938310   \n",
      "2         1701 VETERANS DRIVE  FLORENCE    AL  35630   338    2567688400   \n",
      "3               702 N MAIN ST       OPP    AL  36467    99    3344933541   \n",
      "4         101 HOSPITAL CIRCLE   LUVERNE    AL  36049    65    3343353374   \n",
      "\n",
      "                                        homepage_url  \\\n",
      "0  https://www.southeasthealth.org/southeast-heal...   \n",
      "1                   https://www.marshallmedical.org/   \n",
      "2                                                NaN   \n",
      "3                                                NaN   \n",
      "4                                                NaN   \n",
      "\n",
      "                                    chargemaster_url last_edited_by_username  \n",
      "0  https://www.southeasthealth.org/financial-info...            captainstabs  \n",
      "1  https://www.marshallmedical.org/patients-visit...            captainstabs  \n",
      "2                                                NaN                     NaN  \n",
      "3                                                NaN                     NaN  \n",
      "4                                                NaN                     NaN  \n"
     ]
    }
   ],
   "source": [
    "hospitals_df = pd.read_csv('hospitals.csv', low_memory=False)\n",
    "print(hospitals_df.head())"
   ]
  },
  {
   "cell_type": "code",
   "execution_count": 3,
   "metadata": {},
   "outputs": [
    {
     "name": "stderr",
     "output_type": "stream",
     "text": [
      "/Users/trevormoss/opt/anaconda3/lib/python3.8/site-packages/IPython/core/interactiveshell.py:3071: DtypeWarning: Columns (2,3,4,5,8) have mixed types.Specify dtype option on import or set low_memory=False.\n",
      "  has_raised = await self.run_ast_nodes(code_ast.body, cell_name,\n"
     ]
    },
    {
     "name": "stdout",
     "output_type": "stream",
     "text": [
      "   cms_certification_num                         payer code  \\\n",
      "0                  10001  AMERIGROUP MEDICAID [350002]  100   \n",
      "1                  10001       BLUE ADVANTAGE [308003]  100   \n",
      "2                  10001    BLUE CROSS OF ALA [200001]  100   \n",
      "3                  10001           CARESOURCE [100121]  100   \n",
      "4                  10001  CONNECTICUT GENERAL [100009]  100   \n",
      "\n",
      "  internal_revenue_code units        description inpatient_outpatient  \\\n",
      "0                 MS100   NaN  SEIZURES WITH MCC          UNSPECIFIED   \n",
      "1                 MS100   NaN  SEIZURES WITH MCC          UNSPECIFIED   \n",
      "2                 MS100   NaN  SEIZURES WITH MCC          UNSPECIFIED   \n",
      "3                 MS100   NaN  SEIZURES WITH MCC          UNSPECIFIED   \n",
      "4                 MS100   NaN  SEIZURES WITH MCC          UNSPECIFIED   \n",
      "\n",
      "      price code_disambiguator  \n",
      "0  26744.41               NONE  \n",
      "1  26744.41               NONE  \n",
      "2  26744.41               NONE  \n",
      "3  26744.41               NONE  \n",
      "4  26744.41               NONE  \n"
     ]
    }
   ],
   "source": [
    "#%%time\n",
    "\n",
    "prices_df = pd.read_csv('prices.csv', low_memory=True)\n",
    "print(prices_df.head())\n",
    "#11 min low_memory= True"
   ]
  },
  {
   "cell_type": "code",
   "execution_count": 9,
   "metadata": {},
   "outputs": [
    {
     "name": "stdout",
     "output_type": "stream",
     "text": [
      "(5992, 11)\n",
      "(296210747, 9)\n"
     ]
    }
   ],
   "source": [
    "print(hospitals_df.shape)\n",
    "#5992 hospitals\n",
    "print(prices_df.shape)\n",
    "#296210747 priced items\n",
    "\n",
    "#avg of 49434.3703271 priced items per hospital"
   ]
  },
  {
   "cell_type": "code",
   "execution_count": 2,
   "metadata": {},
   "outputs": [],
   "source": [
    "%%time\n",
    "\n",
    "def extract(file_name, memory_status):\n",
    "    prices_df = pd.read_csv(file_name, low_memory= memory_status)\n",
    "\n",
    "with concurrent.futures.ProcessPoolExecutor() as executor:\n",
    "    executor.map(extract('prices.csv', False))\n",
    "\n",
    "print(prices_df.head())"
   ]
  },
  {
   "cell_type": "code",
   "execution_count": null,
   "metadata": {},
   "outputs": [],
   "source": []
  }
 ],
 "metadata": {
  "kernelspec": {
   "display_name": "Python 3 (ipykernel)",
   "language": "python",
   "name": "python3"
  },
  "language_info": {
   "codemirror_mode": {
    "name": "ipython",
    "version": 3
   },
   "file_extension": ".py",
   "mimetype": "text/x-python",
   "name": "python",
   "nbconvert_exporter": "python",
   "pygments_lexer": "ipython3",
   "version": "3.8.3"
  }
 },
 "nbformat": 4,
 "nbformat_minor": 4
}
