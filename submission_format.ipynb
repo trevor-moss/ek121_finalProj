{
 "cells": [
  {
   "cell_type": "markdown",
   "id": "283a8ee2-9666-454c-a6c0-6a7ee5f1c787",
   "metadata": {},
   "source": [
    "# EK121 Final Project, Fall 2023\n",
    "\n",
    "*Title:*\n",
    "\n",
    "Social Security Disability Requests Vary by Northern vs. Southern States in the USA\n",
    "\n",
    "*Submitted Date:*\n",
    "\n",
    "Oct. 16, 2023\n",
    "\n",
    "-------------\n",
    "\n",
    "\n",
    "*My name and Boston University email address*, as a tuple:"
   ]
  },
  {
   "cell_type": "code",
   "execution_count": 5,
   "id": "48aa103e-7e5d-4783-9fa2-723e9838ece0",
   "metadata": {},
   "outputs": [],
   "source": [
    "myname = (\"Andrew Sabelhaus\", \"asabelha@bu.edu\")"
   ]
  },
  {
   "cell_type": "markdown",
   "id": "f602cf77-16d9-4a5b-8169-fbb954cb63ba",
   "metadata": {},
   "source": [
    "*My teammates' names and Boston University email addresses, as tuples:*"
   ]
  },
  {
   "cell_type": "code",
   "execution_count": 6,
   "id": "bd620cd0-af05-441e-9d04-bf12f158f85f",
   "metadata": {},
   "outputs": [],
   "source": [
    "teammate1 = (\"Jeffrey Carruthers\", \"jbc@bu.edu\")"
   ]
  },
  {
   "cell_type": "code",
   "execution_count": 7,
   "id": "07e9ee07-2a9e-46e7-b5b3-f4f03c2398cf",
   "metadata": {},
   "outputs": [],
   "source": [
    "teammate2 = (\"Jacob Norman\", \"jfnorman@bu.edu\")"
   ]
  },
  {
   "cell_type": "code",
   "execution_count": 8,
   "id": "a4a63266-e682-4e74-95a5-a8bda61c5b9b",
   "metadata": {},
   "outputs": [],
   "source": [
    "teammate3 = ()"
   ]
  },
  {
   "cell_type": "markdown",
   "id": "cb125385-9752-4874-a61c-f655e45d9ff8",
   "metadata": {},
   "source": [
    "-------------\n",
    "\n",
    "*Summary:*\n",
    "\n",
    "Something about Social Security Disability and why it's important. Some dataset could answer an important question for us. We used data this-or-that. Our analysis..."
   ]
  },
  {
   "cell_type": "markdown",
   "id": "06dc41a2-0799-488e-aa38-1f6918ba5314",
   "metadata": {},
   "source": [
    "--insert-your-project-here--"
   ]
  }
 ],
 "metadata": {
  "kernelspec": {
   "display_name": "Python 3 (ipykernel)",
   "language": "python",
   "name": "python3"
  },
  "language_info": {
   "codemirror_mode": {
    "name": "ipython",
    "version": 3
   },
   "file_extension": ".py",
   "mimetype": "text/x-python",
   "name": "python",
   "nbconvert_exporter": "python",
   "pygments_lexer": "ipython3",
   "version": "3.10.12"
  }
 },
 "nbformat": 4,
 "nbformat_minor": 5
}
