{
 "cells": [
  {
   "cell_type": "markdown",
   "id": "283a8ee2-9666-454c-a6c0-6a7ee5f1c787",
   "metadata": {},
   "source": [
    "# EK121 Final Project, Fall 2023\n",
    "\n",
    "*Title:*\n",
    "\n",
    "Social Security Disability Requests Vary by Northern vs. Southern States in the USA\n",
    "\n",
    "*Submitted Date:*\n",
    "\n",
    "Oct. 16, 2023\n",
    "\n",
    "-------------\n",
    "\n",
    "\n",
    "*My name and Boston University email address*, as a tuple:"
   ]
  },
  {
   "cell_type": "code",
   "execution_count": 5,
   "id": "48aa103e-7e5d-4783-9fa2-723e9838ece0",
   "metadata": {},
   "outputs": [],
   "source": [
    "myname = (\"Andrew Sabelhaus\", \"asabelha@bu.edu\")"
   ]
  },
  {
   "cell_type": "markdown",
   "id": "f602cf77-16d9-4a5b-8169-fbb954cb63ba",
   "metadata": {},
   "source": [
    "*My teammates' names and Boston University email addresses, as tuples:*"
   ]
  },
  {
   "cell_type": "code",
   "execution_count": 6,
   "id": "bd620cd0-af05-441e-9d04-bf12f158f85f",
   "metadata": {},
   "outputs": [],
   "source": [
    "teammate1 = (\"Jeffrey Carruthers\", \"jbc@bu.edu\")"
   ]
  },
  {
   "cell_type": "code",
   "execution_count": 7,
   "id": "07e9ee07-2a9e-46e7-b5b3-f4f03c2398cf",
   "metadata": {},
   "outputs": [],
   "source": [
    "teammate2 = (\"Jacob Norman\", \"jfnorman@bu.edu\")"
   ]
  },
  {
   "cell_type": "code",
   "execution_count": 8,
   "id": "a4a63266-e682-4e74-95a5-a8bda61c5b9b",
   "metadata": {},
   "outputs": [],
   "source": [
    "teammate3 = ()"
   ]
  },
  {
   "cell_type": "markdown",
   "id": "cb125385-9752-4874-a61c-f655e45d9ff8",
   "metadata": {},
   "source": [
    "-------------\n",
    "\n",
    "*Summary:*\n",
    "\n",
    "Something about Social Security Disability and why it's important. Some dataset could answer an important question for us. We used data this-or-that. Our analysis..."
   ]
  },
  {
   "cell_type": "markdown",
   "id": "06dc41a2-0799-488e-aa38-1f6918ba5314",
   "metadata": {},
   "source": [
    "--insert-your-project-here--"
   ]
  },
  {
   "cell_type": "code",
   "execution_count": 4,
   "id": "c796efaf",
   "metadata": {},
   "outputs": [],
   "source": [
    "import numpy as np #numpy maybe not needed\n",
    "import pandas as pd\n",
    "import matplotlib.pyplot as plt"
   ]
  },
  {
   "cell_type": "code",
   "execution_count": 5,
   "id": "d802b7f2",
   "metadata": {},
   "outputs": [],
   "source": [
    "data_url = \"https://www.dropbox.com/s/ie1zvkr7iht2i1j/public_workingtimedata.dta?dl=1\" # store data url here\n",
    "\n",
    "df = pd.read_stata(data_url) # data is a stata file, so use read_stata to get dataframe set up\n",
    "#df.to_csv('./csv.csv') # test used so we can look at raw data and as CSV instead of .dta/stata\n",
    "#not much cleaning required"
   ]
  },
  {
   "cell_type": "code",
   "execution_count": 6,
   "id": "a26f8696",
   "metadata": {},
   "outputs": [
    {
     "data": {
      "image/png": "[encoded data removed]",
      "text/plain": [
       "<Figure size 640x480 with 1 Axes>"
      ]
     },
     "metadata": {},
     "output_type": "display_data"
    }
   ],
   "source": [
    "df_by_year = df.sort_values([\"year\"]) # sort everything by year\n",
    "df_US = df.loc[df['country_name'] == \"United States of America\"] # get only the USA labor hours data\n",
    "\n",
    "df_US_hours = df_US[[\"country_name\", \"year\", \"normalhours\"]] # only get these columns \n",
    "df_US_hours.plot.scatter(x=\"year\", y=\"normalhours\") # plot the year vs. normal working hours\n",
    "\n",
    "plt.xlabel('Year')\n",
    "plt.ylabel('Normal Working Hours')\n",
    "plt.title('Normal Working Hours in the United States, 1940 to 2020')\n",
    "\n",
    "plt.show()\n"
   ]
  },
  {
   "cell_type": "code",
   "execution_count": 7,
   "id": "98db139a",
   "metadata": {},
   "outputs": [],
   "source": [
    "grouped_by_country = df.groupby('country_name')\n",
    "\n",
    "#grouped_by_country.plot(x='year', y='normalhours', stacked=True)\n",
    "#plt.show()"
   ]
  },
  {
   "cell_type": "code",
   "execution_count": null,
   "id": "8afdff0e",
   "metadata": {},
   "outputs": [],
   "source": [
    "\n",
    "\n",
    "df_JP = df.loc[df['country_name'] == \"Japan\"]\n",
    "df_JP_hours = df_JP[[\"country_name\", \"year\", \"hours_max\"]]\n",
    "print(df_JP_hours)\n",
    "\n",
    "df_2020 = df.loc[df[\"year\"] == 2020]\n",
    "df_2020.plot.scatter(x=\"normalhours\", y=\"hours_max\")"
   ]
  },
  {
   "cell_type": "markdown",
   "id": "ff43c3b0",
   "metadata": {},
   "source": []
  }
 ],
 "metadata": {
  "kernelspec": {
   "display_name": "Python 3 (ipykernel)",
   "language": "python",
   "name": "python3"
  },
  "language_info": {
   "codemirror_mode": {
    "name": "ipython",
    "version": 3
   },
   "file_extension": ".py",
   "mimetype": "text/x-python",
   "name": "python",
   "nbconvert_exporter": "python",
   "pygments_lexer": "ipython3",
   "version": "3.11.4"
  }
 },
 "nbformat": 4,
 "nbformat_minor": 5
}
