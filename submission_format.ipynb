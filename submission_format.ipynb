{
 "cells": [
  {
   "cell_type": "markdown",
   "id": "283a8ee2-9666-454c-a6c0-6a7ee5f1c787",
   "metadata": {},
   "source": [
    "# EK121 Final Project, Fall 2023\n",
    "\n",
    "*Title:*\n",
    "\n",
    "Global Historical and Current Trends of Working Hours and Overtime\n",
    "\n",
    "*Submitted Date:*\n",
    "\n",
    "Oct. 16, 2023\n",
    "\n",
    "-------------\n",
    "\n",
    "\n",
    "*My name and Boston University email address*, as a tuple:"
   ]
  },
  {
   "cell_type": "code",
   "execution_count": null,
   "id": "48aa103e-7e5d-4783-9fa2-723e9838ece0",
   "metadata": {},
   "outputs": [],
   "source": [
    "myname = (\"Sophie Li\", \"sophiel1@bu.edu\")"
   ]
  },
  {
   "cell_type": "markdown",
   "id": "f602cf77-16d9-4a5b-8169-fbb954cb63ba",
   "metadata": {},
   "source": [
    "*My teammates' names and Boston University email addresses, as tuples:*"
   ]
  },
  {
   "cell_type": "code",
   "execution_count": null,
   "id": "bd620cd0-af05-441e-9d04-bf12f158f85f",
   "metadata": {},
   "outputs": [],
   "source": [
    "teammate1 = (\"Samuel Keamy\", \"skeamy@bu.edu\")"
   ]
  },
  {
   "cell_type": "code",
   "execution_count": null,
   "id": "07e9ee07-2a9e-46e7-b5b3-f4f03c2398cf",
   "metadata": {},
   "outputs": [],
   "source": [
    "teammate2 = (\"Trevor Moss\", \"tmoss27@bu.edu\")"
   ]
  },
  {
   "cell_type": "code",
   "execution_count": null,
   "id": "a4a63266-e682-4e74-95a5-a8bda61c5b9b",
   "metadata": {},
   "outputs": [],
   "source": [
    "teammate3 = ()"
   ]
  },
  {
   "cell_type": "markdown",
   "id": "cb125385-9752-4874-a61c-f655e45d9ff8",
   "metadata": {},
   "source": [
    "-------------\n",
    "### Summary\n",
    "\n",
    "Political Scientist Magnus Bergli Rasmussen published a dataset on government advised working hours, covering 203 unique countries and territories from 1789 to 2020. For each year and country/governing body, Rasmussen provides:\n",
    "* Existence of work laws\n",
    "* Advised # of normal working hours in a week\n",
    "* Maximum hours allowed\n",
    "* Percentage increase in pay for overtime work\n",
    "\n",
    "Through analyzing this dataset, we can observe the expectations of working hours, and therefore get a general idea of work culture throughout time and within various countries. Furthermore, we can observe shifts in this culture, as well as changes in leisure time and living standards.\n",
    "\n",
    "##### Hypotheses\n",
    "1. We hypothesized that globally, normal working hours have decreased over time. \n",
    "2. We believe that max regulated overtime hours globally would have also decreased as time went on, and that there is a link between overtime compensation and maximum overtime hours.\n",
    "\n",
    "\n",
    "#### Results\n",
    "1. We were correct, but only to a degree. Despite the normal working hours decreasing over time, there is not a clear shift during a certain time period. Especially for the United Kingdom, their switch from 96 hours to 40 hours did not occur until 1999, which is much later than most other countries. In the modern day, most—if not all—countries have lowered their normal working hours to around 40 hours.\n",
    "2. We were incorrect. For most countries, the maximum overtime hours along with the overtime compensation was set once and still stands today, despite the changes that have happened."
   ]
  },
  {
   "cell_type": "markdown",
   "id": "1b71043f",
   "metadata": {},
   "source": [
    "-------"
   ]
  },
  {
   "cell_type": "markdown",
   "id": "c796efaf",
   "metadata": {},
   "source": [
    "### Part 0: Setup"
   ]
  },
  {
   "cell_type": "code",
   "execution_count": null,
   "id": "4047f55c",
   "metadata": {},
   "outputs": [],
   "source": [
    "import numpy as np #numpy maybe not needed\n",
    "import pandas as pd\n",
    "import matplotlib.pyplot as plt\n",
    "plt.rcParams[\"figure.figsize\"] = (16,8) # Reference 3\n",
    "plt.rcParams['font.size'] = 14"
   ]
  },
  {
   "cell_type": "code",
   "execution_count": null,
   "id": "d802b7f2",
   "metadata": {},
   "outputs": [],
   "source": [
    "#Reference 1 and 2 to show where dataset is from!\n",
    "data_url = \"https://www.dropbox.com/s/ie1zvkr7iht2i1j/public_workingtimedata.dta?dl=1\" # store data url here\n",
    "\n",
    "\n",
    "df = pd.read_stata(data_url) # data is a stata file, so use read_stata to get dataframe set up\n",
    "#df.to_csv('./csv.csv') # test used so we can look at raw data and as CSV instead of .dta/stata\n",
    "#no real cleaning required, very nice data set. Some NaN values that will be discussed later, but largely not impactful."
   ]
  },
  {
   "cell_type": "markdown",
   "id": "959aca08",
   "metadata": {},
   "source": [
    "### Part 1: Global Labor Trends\n",
    "\n",
    "Our initial thought was that there must be a shift in the normal working hours from the past to now. In other words, it seems reasonable that as technology and living standards improved with time, there would be a decrease in working hours. Thus, we hypothesize that, globally, there has been a trend towards lower labor hours.\n",
    "\n",
    "This dataset included a \"normalhours\" column, which is the \"Normal Working Hours\" we reference throughout these next few plots. These hours are based on the regulations set by each country. \n",
    "\n",
    "To illustrate our hypothesis, let us first examine the United States."
   ]
  },
  {
   "cell_type": "code",
   "execution_count": null,
   "id": "a26f8696",
   "metadata": {},
   "outputs": [],
   "source": [
    "# Plot 1.1\n",
    "\n",
    "df_by_year = df.sort_values([\"year\"]) # sort everything by year\n",
    "df_US = df.loc[df['country_name'] == \"United States of America\"] # get only the USA labor hours data\n",
    "\n",
    "df_US_hours = df_US[[\"country_name\", \"year\", \"normalhours\"]] # only get these columns \n",
    "df_US_hours.plot.scatter(x=\"year\", y=\"normalhours\") # plot the year vs. normal working hours\n",
    "\n",
    "plt.xlabel('Year')\n",
    "plt.ylabel('Normal Working Hours')\n",
    "plt.title('Figure 1.1: Normal Working Hours in the United States, 1850 to 2020')\n",
    "plt.xlim(1850, 2025)\n",
    "\n",
    "plt.show()"
   ]
  },
  {
   "cell_type": "markdown",
   "id": "50efced0-803c-40bb-bdd5-c61f342084b9",
   "metadata": {},
   "source": [
    "As reflected in the plot, we can see that normal working hours in the United States changed drastically around the late 30s and early to mid 40s. There is only one major shift here, rather than a gradual trend downwards. Looking at this data, we initially thought this shift might have been caused by World War II. However, the shift in working hours occurs in 1938, which can be seen if the graph is examined closely. This is a year before the war started, so there is likely little to no connection here. More likely, this new labor law was introduced (Reference 4) as a response to the great depression. While this trend matches our hypothesis, examining a single country, subject to factors the rest of the world might not be, would be irresponsible. So, we should examine all the countries in this dataset together."
   ]
  },
  {
   "cell_type": "code",
   "execution_count": null,
   "id": "98db139a",
   "metadata": {},
   "outputs": [],
   "source": [
    "# Plot 1.2\n",
    "pd.pivot_table(df.reset_index(), index='year', columns='country_name', values='normalhours').plot(legend=None, alpha=0.2, linestyle='None', marker='.', color=\"#72aef2\") # Reference 5\n",
    "\n",
    "#df.plot(x='year', y='normalhours', legend=None, alpha=0.5, linestyle='None', marker='.', color=\"#72aef2\") maybe replace?\n",
    "\n",
    "plt.xlabel('Year')\n",
    "plt.ylabel('Normal Working Hours')\n",
    "plt.title('Figure 1.2: Scatter of Global Normal Working Hours, 1850 to 2020')\n",
    "plt.xlim(1850, 2025)\n",
    "\n",
    "plt.show()"
   ]
  },
  {
   "cell_type": "markdown",
   "id": "17393b8c-d5d1-4dfa-9738-182ee7d451ec",
   "metadata": {},
   "source": [
    "It is evident that there is cluster of suddenly lower Normal Working Hours beginning between 1920 and 1940. This is a smiliar trend worldwide as to plot 1.1, where normal working hours suddenly dropped around 1940. With some countries dropping pre-1940, we can again see that a single event, such as WWII, is not the main reason for this global shift in labor. Although a trend is visible, there are simply too many data points, it's hard to read! Looking at mean working hours can help clarify this."
   ]
  },
  {
   "cell_type": "code",
   "execution_count": null,
   "id": "3d4bdd4d",
   "metadata": {},
   "outputs": [],
   "source": [
    "#mean normal working hours in 2020 vs 1930\n",
    "\n",
    "df_2020 = df.loc[df['year'] == 2020] # get entries in dataframe from certain years\n",
    "df_1930 = df.loc[df['year'] == 1930]\n",
    "\n",
    "#print(len(df_2020), len(df_1930)) #checking that not too many data points are lost here!\n",
    "\n",
    "mean_hours_2020 = df_2020.loc[:, 'normalhours'].mean() #slice for normal hours column only, then take mean of this series\n",
    "mean_hours_1930 = df_1930.loc[:, 'normalhours'].mean()\n",
    "\n",
    "print(f\"The mean working normal working hours (to the nearest hour) in 2020 was {mean_hours_2020:.0f}, while the mean in 1930 was {mean_hours_1930:.0f}.\")"
   ]
  },
  {
   "cell_type": "markdown",
   "id": "d5a06b99",
   "metadata": {},
   "source": [
    "So, the mean normal working hours decreased by 34 hours between 1930 and 2020. This matches what we see in Figure 1.2, a global trend of decreasing work hours over the past 90ish years. Neat! Work hours have clearly decreased across the board, which lines up with our hypthesis nicely.\n",
    "\n",
    "Let's take a look at a few individual countries, just for clarity, as Figure 1.2 is a bit hard to read."
   ]
  },
  {
   "cell_type": "code",
   "execution_count": null,
   "id": "8afdff0e",
   "metadata": {},
   "outputs": [],
   "source": [
    "# Plot 1.3\n",
    "#look at fewer countries here to illustrate a sort of trend more simply (like 4-6 countries)\n",
    "\n",
    "df_select = df.loc[df['country_name'].isin(['United States of America', 'Mexico', 'Russia', 'Germany', 'United Kingdom'])]\n",
    "#df_select = df.loc[df['country_name'].isin(['United Kingdom'])]\n",
    "\n",
    "pd.pivot_table(df_select.reset_index(), index='year', columns='country_name', values='normalhours').plot(alpha=0.4, linestyle='None', marker='.')\n",
    "\n",
    "plt.xlabel('Year')\n",
    "plt.ylabel('Normal Working Hours')\n",
    "plt.title('Figure 1.3: Selected Normal Working Hours, 1850 to 2020')\n",
    "plt.xlim(1850, 2025)\n",
    "plt.legend(title=\"Country\", loc='lower left', markerscale= 3)\n",
    "\n",
    "plt.show()"
   ]
  },
  {
   "cell_type": "markdown",
   "id": "153e242b-2d89-460c-84ca-ec3f9bb755df",
   "metadata": {},
   "source": [
    "Above is one visualization of five selected countries. We will anaylze this in a moment, but first will show them in 3D to get a clearer picture of each."
   ]
  },
  {
   "cell_type": "code",
   "execution_count": null,
   "id": "e6ea200f",
   "metadata": {},
   "outputs": [],
   "source": [
    "# Plot 1.3.1 (3D)\n",
    "# Reference 6, extrapolated to .scatterplot\n",
    "\n",
    "fig = plt.figure(figsize=(14, 11))\n",
    "ax = fig.add_subplot(projection='3d')\n",
    "colors = ['b', 'r', 'k', 'g']\n",
    "yticks = [3, 2, 1, 0] # Only label ticks with line\n",
    "country = ['United Kingdom', 'Russia', 'Germany', 'Mexico'] \n",
    "\n",
    "for clr, ypos, ctry in zip(colors, yticks, country): # For each country (with its corresponding color and y-position)\n",
    "    df_country = df.loc[df['country_name'] == ctry]\n",
    "\n",
    "    xs = df_country['year'] # Set x data to years covered for country\n",
    "    ys = ypos # y data is the arbitrary assigned position\n",
    "    zs = df_country['normalhours'] # Set z data to the normal hours\n",
    "\n",
    "    cs = [clr] * len(xs)\n",
    "    cs[0] = 'c' # Set the first point to be cyan to help the eye establish a line\n",
    "\n",
    "    a = ax.scatter(xs, ys, zs, color= cs) # Add scatterplot, (year, y-pos, normalhrs) as [x, y, z] data, color as specified\n",
    "\n",
    "ax.set_xlabel('Year', labelpad= 8)\n",
    "ax.set_ylabel('Country', labelpad= 20)\n",
    "ax.set_zlabel('Hours')\n",
    "ax.set_yticks(yticks)\n",
    "ax.set_yticklabels(['United Kingdom', 'Russia', 'Germany', 'Mexico']) # Changing y label ticks to the respective country\n",
    "\n",
    "plt.title('Figure 1.3.1: Selected Normal Working Hours, 1850 to 2020 (3D)')\n",
    "\n",
    "plt.show()\n",
    "\n",
    "# Author's note:\n",
    "# Wish I had more time to make this more readable, ideally it would be a 3D stem plot or line graph (though the data does not lend itself to a line) but that didn't want to cooperate. \n",
    "# The graph relies on the reader taking the time to visualize each country on its own plane, not ideal for a graph meant to make things easier."
   ]
  },
  {
   "cell_type": "markdown",
   "id": "1d350763-4ced-41c6-8b50-4fab58a1c17d",
   "metadata": {},
   "source": [
    "The United States of America was omitted from this graph for clarity, as Figure 1.1 focused solely on the US.\n",
    "\n",
    "Here, we clearly see the trend in each country to lowering labor hours to the modern day. The shifts seen here are not simultaneous, perhaps indicating that countries experienced similar pressures but at different moments in history. These shifts are more localized than we initially thought, with a country like the United Kingdom setting its lower Normal Working Hours much later than others. Of these countries, most experienced shifts much earlier than this, but not all clustered around the 1940s, which is when the United States felt a similar shift. However, all these countries did indeed shift in a similar way, with each greatly reducing expected labor hours. Therefore, our hypothesis holds up for these countries, and for the wider world, given what we can observe from Figure 1.2.\n",
    "\n",
    "Through these comparisons, we can see that working hours have generally decreased over time. This trend can be explained through a multitude of factors, not just one event. However, the lower normal work hours suggests that society has become more productive in the modern day. By looking at more specific countries, and using the expected working hours, we can identify trends from the past to predict future changes in work hours. Also, we can see how the standard of living and work culture have changed throughout time. As work hours decrease, people have experienced an increase in more time for leisure activities. Further, we can compare the work culture between different countries. For example, a country with higher normal working hours, would have higher expectations for individual workers. This could also be reflected by overtime hours, where the expectation of working overtime would increase. "
   ]
  },
  {
   "cell_type": "markdown",
   "id": "a82712db",
   "metadata": {},
   "source": [
    "### Part 2: Overtime Hours and Compensation\n",
    "\n",
    "We've discussed normal working hours, but what about overtime? We believe that there will be a similar trend to our first scenario with overtime hours, and that there is a correlation between remuneration (compensation for overtime hours) and maximum hours.\n",
    "\n",
    "In this section, we frequently reference maximum hours and remuneration as a percentage. For reference, Max Hours = Normal Hours + Overtime Hours, and Overtime Pay = (1.00 + Overtime Remun.) ⋅ Pay.\n"
   ]
  },
  {
   "cell_type": "code",
   "execution_count": null,
   "id": "5444400b",
   "metadata": {},
   "outputs": [],
   "source": [
    "# Plot 2.1\n",
    "\n",
    "df.plot(x='year',y='hours_max', legend=None, alpha=0.5, linestyle='None', marker='.', color=\"#72aef2\") # scatter of year vs. max hours\n",
    "\n",
    "plt.xlim(1900, 2025) # cut out values pre-1900, dataset limited in scope at this point\n",
    "\n",
    "plt.ylabel('Maximum Working Hours')\n",
    "plt.xlabel('Year')\n",
    "plt.title('Figure 2.1: Global Maximum Working Hours, 1900-2020')\n",
    "plt.xlim(1900, 2025)\n",
    "\n",
    "plt.show()"
   ]
  },
  {
   "cell_type": "markdown",
   "id": "d7a5effe",
   "metadata": {},
   "source": [
    "In this figure, we can see that there is a faint trend, where a cluster forms on the lower right corner, signifying lower overtime hours in the more recent years. However, there is no clear trend which could be attributed to the many NaN (missing) values 'hours_max' has in the dataframe. This could easily make this data less accurate, so let's inspect how many NaN items are in this column using the code below."
   ]
  },
  {
   "cell_type": "code",
   "execution_count": null,
   "id": "71b4d2d5",
   "metadata": {},
   "outputs": [],
   "source": [
    "df_hours_max_and_country = df[['country_name', 'hours_max']]\n",
    "count_NaN_max_hours = 0\n",
    "\n",
    "NaN_dict = {}\n",
    "NaN_list = []\n",
    "\n",
    "#make a dictionary of format 'country':(number of nan items)\n",
    "for index, row in df_hours_max_and_country.iterrows(): # Reference 7\n",
    "    if(row['hours_max'] != row['hours_max']): #check if max_hours is NaN by checking if equal to self\n",
    "        count_NaN_max_hours+=1\n",
    "        if(not row['country_name'] in NaN_dict.keys()):\n",
    "            NaN_dict[row['country_name']] = 1\n",
    "        else:\n",
    "            NaN_dict[row['country_name']] += 1\n",
    "\n",
    "for key in NaN_dict:\n",
    "    NaN_list.append([key, NaN_dict[key]])\n",
    "\n",
    "df_NaN_max_hours = pd.DataFrame(NaN_list, columns=['Country', 'NaN Max Hours']).sort_values(by='NaN Max Hours').set_index(['Country'])\n",
    "\n",
    "\n",
    "print(f\"There are {count_NaN_max_hours} NaN items in the 'hours_max' column, out of the total of 27192 rows!\")\n",
    "#df_NaN_max_hours.loc[df_NaN_max_hours['NaN Max Hours'] > 100].plot.hist()\n",
    "#plt.show()\n",
    "\n"
   ]
  },
  {
   "cell_type": "markdown",
   "id": "b76aa350",
   "metadata": {},
   "source": [
    "With so many NaN values, it's clear that any trend we see in the plot above does not reflect a completely global trend, at least at some points in time.\n",
    "\n",
    "We can plot some of this data to check what countries have these NaN values and investigate why, though it's a bit of an uglier bar graph."
   ]
  },
  {
   "cell_type": "code",
   "execution_count": null,
   "id": "b05dae2b",
   "metadata": {},
   "outputs": [],
   "source": [
    "df_NaN_max_hours.loc[df_NaN_max_hours['NaN Max Hours'] > 150].plot.bar()\n",
    "\n",
    "plt.title(\"Figure 2.2: Countries with the Most Empty Maximum Hours Entries\")\n",
    "plt.ylabel(\"Number of Empty Entries\")\n",
    "plt.xlabel(\"Country\")\n",
    "plt.show()"
   ]
  },
  {
   "cell_type": "markdown",
   "id": "6cf58d22",
   "metadata": {},
   "source": [
    "Picking some countries from this bar graph, we can see that there are various reasons for this missing data such as:\n",
    "1. Some countries only have recent entries in the 'hours_max' column, as is the case for the United Kingdom, which only has data for 1999 onwards. This can be either because there previously weren't regulations in place or because the dataset did not include this data for some reason.\n",
    "2. The country might not have a maximum number of working hours."
   ]
  },
  {
   "cell_type": "markdown",
   "id": "a128e5a7",
   "metadata": {},
   "source": [
    "Using the data we do have, lets look at overtime compensation, referred to here as remuneration. We believe there will be a connection between overtime compensation and maximum working hours."
   ]
  },
  {
   "cell_type": "code",
   "execution_count": null,
   "id": "fdcc1c26",
   "metadata": {},
   "outputs": [],
   "source": [
    "#overtime_remun vs hours_max\n",
    "\n",
    "\n",
    "df_2020.plot(x='overtime_remun', y='hours_max', legend=None, alpha=1, linestyle='None', marker='.', color=\"#72aef2\")\n",
    "\n",
    "plt.title('Figure 2.3: Global Overtime Remuneration vs. Maximum Working Hours for each Country, 2020')\n",
    "plt.xlabel('Overtime Remuneration (%)')\n",
    "plt.ylabel('Maximum Working Hours')\n",
    "\n",
    "plt.show()"
   ]
  },
  {
   "cell_type": "markdown",
   "id": "fcc75874",
   "metadata": {},
   "source": [
    "Huh, looks like there isn't a linear/exponential connection. What we do have are a couple internationally recognized clusters (0%, 25%, 50%, 100%) that countries default to, regardless of their maximum working hours. <br>\n",
    "\n",
    "Lets look at the time series to check if we have any correlation there."
   ]
  },
  {
   "cell_type": "code",
   "execution_count": null,
   "id": "a463ace2",
   "metadata": {},
   "outputs": [],
   "source": [
    "#overtime_renum vs. time\n",
    "\n",
    "#df.plot(x='year', y='overtime_remun', legend=None, alpha=0.8, linestyle='None', marker='.', color=\"#72aef2\")\n",
    "pd.pivot_table(df.reset_index(), index='year', columns='country_name', values='overtime_remun').plot(alpha=0.4, linestyle='None', marker='.', legend=None)\n",
    "\n",
    "plt.title('Figure 2.4: Global Overtime Remuneration, 1900-2020')\n",
    "plt.xlabel('Year')\n",
    "plt.ylabel('Overtime Remuneration (%)')\n",
    "plt.xlim(1900, 2025)\n",
    "\n",
    "plt.show()"
   ]
  },
  {
   "cell_type": "markdown",
   "id": "b09e7e7d",
   "metadata": {},
   "source": [
    "Unfortunately not, there is no notable change in overtime compensation corresponding a major world event (the labor changes in the 1940s, the popularization of assembly lines, etc.).\n",
    "\n",
    "In fact, the overtime compensation workers recieve today is likely to be the same overtime compensation workers recieved a century ago. This warrents further exploration into the number of hours worked overtime per capita, and if our old overtime system is compensating workers fairly in the modern day. Furthermore, this dataset only captures legal limits of overtime. While it's unlikely for employers to exceed overtime hours, there may be after-hours work that is not compensated and/or recorded. Such work is a reflection of cultural expectations, and would be important to investigate for deeper discussion on this topic."
   ]
  },
  {
   "cell_type": "markdown",
   "id": "1a7cf8cd",
   "metadata": {},
   "source": [
    "References:\n",
    "1. https://www.data-is-plural.com/archive/2021-12-22-edition/\n",
    "2. https://www.researchgate.net/publication/356063579_The_Great_Standardization_Working_Hours_around_the_World\n",
    "3. https://matplotlib.org/stable/users/explain/customizing.html\n",
    "4. https://www.dol.gov/general/aboutdol/history/flsa1938\n",
    "5. https://www.statology.org/pandas-groupby-plot/\n",
    "6. https://matplotlib.org/stable/gallery/mplot3d/bars3d.html#sphx-glr-gallery-mplot3d-bars3d-py\n",
    "7. https://pandas.pydata.org/pandas-docs/stable/reference/api/pandas.DataFrame.iterrows.html#pandas-dataframe-iterrows"
   ]
  },
  {
   "cell_type": "markdown",
   "id": "01714a99",
   "metadata": {},
   "source": []
  }
 ],
 "metadata": {
  "kernelspec": {
   "display_name": "Python 3 (ipykernel)",
   "language": "python",
   "name": "python3"
  },
  "language_info": {
   "codemirror_mode": {
    "name": "ipython",
    "version": 3
   },
   "file_extension": ".py",
   "mimetype": "text/x-python",
   "name": "python",
   "nbconvert_exporter": "python",
   "pygments_lexer": "ipython3",
   "version": "3.11.5"
  }
 },
 "nbformat": 4,
 "nbformat_minor": 5
}
